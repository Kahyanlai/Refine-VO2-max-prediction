{
 "cells": [
  {
   "cell_type": "markdown",
   "id": "fdd6bcb0-8c0a-475d-be7b-57759bc5685c",
   "metadata": {},
   "source": [
    "# Task 6.2C"
   ]
  },
  {
   "cell_type": "markdown",
   "id": "8be3eb6e-09e6-47fa-a127-517b80a09700",
   "metadata": {},
   "source": [
    "# Introduction"
   ]
  },
  {
   "cell_type": "markdown",
   "id": "070e3c33-4699-4fde-be5b-9ae9720c09f6",
   "metadata": {},
   "source": [
    "This analysis aims to evaluate the clustering performance of different clustering techniques in a microclimate sensor dataset, with SensorLocation used as the ground truth for evaluation."
   ]
  },
  {
   "cell_type": "markdown",
   "id": "6f9de6bc-efd3-4b42-ac59-e608a16442f6",
   "metadata": {
    "tags": []
   },
   "source": [
    "# Load Dataset"
   ]
  },
  {
   "cell_type": "code",
   "execution_count": 1,
   "id": "33696a3a-62cd-4a75-9d4d-d9bd21690c86",
   "metadata": {
    "tags": []
   },
   "outputs": [
    {
     "data": {
      "text/html": [
       "<div>\n",
       "<style scoped>\n",
       "    .dataframe tbody tr th:only-of-type {\n",
       "        vertical-align: middle;\n",
       "    }\n",
       "\n",
       "    .dataframe tbody tr th {\n",
       "        vertical-align: top;\n",
       "    }\n",
       "\n",
       "    .dataframe thead th {\n",
       "        text-align: right;\n",
       "    }\n",
       "</style>\n",
       "<table border=\"1\" class=\"dataframe\">\n",
       "  <thead>\n",
       "    <tr style=\"text-align: right;\">\n",
       "      <th></th>\n",
       "      <th>Device_id</th>\n",
       "      <th>Time</th>\n",
       "      <th>SensorLocation</th>\n",
       "      <th>LatLong</th>\n",
       "      <th>MinimumWindDirection</th>\n",
       "      <th>AverageWindDirection</th>\n",
       "      <th>MaximumWindDirection</th>\n",
       "      <th>MinimumWindSpeed</th>\n",
       "      <th>AverageWindSpeed</th>\n",
       "      <th>GustWindSpeed</th>\n",
       "      <th>AirTemperature</th>\n",
       "      <th>RelativeHumidity</th>\n",
       "      <th>AtmosphericPressure</th>\n",
       "      <th>PM25</th>\n",
       "      <th>PM10</th>\n",
       "      <th>Noise</th>\n",
       "    </tr>\n",
       "  </thead>\n",
       "  <tbody>\n",
       "    <tr>\n",
       "      <th>0</th>\n",
       "      <td>ICTMicroclimate-08</td>\n",
       "      <td>2025-02-09T11:54:37+11:00</td>\n",
       "      <td>Swanston St - Tram Stop 13 adjacent Federation...</td>\n",
       "      <td>-37.8184515, 144.9678474</td>\n",
       "      <td>0.0</td>\n",
       "      <td>153.0</td>\n",
       "      <td>358.0</td>\n",
       "      <td>0.0</td>\n",
       "      <td>3.9</td>\n",
       "      <td>7.9</td>\n",
       "      <td>23.9</td>\n",
       "      <td>57.300000</td>\n",
       "      <td>1009.700000</td>\n",
       "      <td>0.0</td>\n",
       "      <td>0.0</td>\n",
       "      <td>80.500000</td>\n",
       "    </tr>\n",
       "    <tr>\n",
       "      <th>1</th>\n",
       "      <td>ICTMicroclimate-11</td>\n",
       "      <td>2025-02-09T12:02:11+11:00</td>\n",
       "      <td>1 Treasury Place</td>\n",
       "      <td>-37.812888, 144.9750857</td>\n",
       "      <td>0.0</td>\n",
       "      <td>144.0</td>\n",
       "      <td>356.0</td>\n",
       "      <td>0.0</td>\n",
       "      <td>2.0</td>\n",
       "      <td>7.8</td>\n",
       "      <td>24.5</td>\n",
       "      <td>56.200000</td>\n",
       "      <td>1005.300000</td>\n",
       "      <td>0.0</td>\n",
       "      <td>0.0</td>\n",
       "      <td>62.900000</td>\n",
       "    </tr>\n",
       "    <tr>\n",
       "      <th>2</th>\n",
       "      <td>ICTMicroclimate-05</td>\n",
       "      <td>2025-02-09T12:03:24+11:00</td>\n",
       "      <td>Enterprize Park - Pole ID: COM1667</td>\n",
       "      <td>-37.8204083, 144.9591192</td>\n",
       "      <td>0.0</td>\n",
       "      <td>45.0</td>\n",
       "      <td>133.0</td>\n",
       "      <td>0.0</td>\n",
       "      <td>1.5</td>\n",
       "      <td>2.7</td>\n",
       "      <td>25.0</td>\n",
       "      <td>60.000000</td>\n",
       "      <td>1009.600000</td>\n",
       "      <td>1.0</td>\n",
       "      <td>3.0</td>\n",
       "      <td>68.500000</td>\n",
       "    </tr>\n",
       "    <tr>\n",
       "      <th>3</th>\n",
       "      <td>ICTMicroclimate-01</td>\n",
       "      <td>2025-02-09T12:02:43+11:00</td>\n",
       "      <td>Birrarung Marr Park - Pole 1131</td>\n",
       "      <td>-37.8185931, 144.9716404</td>\n",
       "      <td>NaN</td>\n",
       "      <td>150.0</td>\n",
       "      <td>NaN</td>\n",
       "      <td>NaN</td>\n",
       "      <td>1.6</td>\n",
       "      <td>NaN</td>\n",
       "      <td>23.1</td>\n",
       "      <td>61.099998</td>\n",
       "      <td>1009.000000</td>\n",
       "      <td>0.0</td>\n",
       "      <td>5.0</td>\n",
       "      <td>51.700001</td>\n",
       "    </tr>\n",
       "    <tr>\n",
       "      <th>4</th>\n",
       "      <td>ICTMicroclimate-09</td>\n",
       "      <td>2025-02-09T12:17:37+11:00</td>\n",
       "      <td>SkyFarm (Jeff's Shed). Rooftop - Melbourne Con...</td>\n",
       "      <td>-37.8223306, 144.9521696</td>\n",
       "      <td>0.0</td>\n",
       "      <td>241.0</td>\n",
       "      <td>359.0</td>\n",
       "      <td>0.0</td>\n",
       "      <td>0.9</td>\n",
       "      <td>4.4</td>\n",
       "      <td>25.6</td>\n",
       "      <td>53.700000</td>\n",
       "      <td>1007.900000</td>\n",
       "      <td>0.0</td>\n",
       "      <td>0.0</td>\n",
       "      <td>60.200000</td>\n",
       "    </tr>\n",
       "    <tr>\n",
       "      <th>...</th>\n",
       "      <td>...</td>\n",
       "      <td>...</td>\n",
       "      <td>...</td>\n",
       "      <td>...</td>\n",
       "      <td>...</td>\n",
       "      <td>...</td>\n",
       "      <td>...</td>\n",
       "      <td>...</td>\n",
       "      <td>...</td>\n",
       "      <td>...</td>\n",
       "      <td>...</td>\n",
       "      <td>...</td>\n",
       "      <td>...</td>\n",
       "      <td>...</td>\n",
       "      <td>...</td>\n",
       "      <td>...</td>\n",
       "    </tr>\n",
       "    <tr>\n",
       "      <th>308235</th>\n",
       "      <td>ICTMicroclimate-08</td>\n",
       "      <td>2025-04-18T15:32:17+10:00</td>\n",
       "      <td>Swanston St - Tram Stop 13 adjacent Federation...</td>\n",
       "      <td>-37.8184515, 144.9678474</td>\n",
       "      <td>0.0</td>\n",
       "      <td>48.0</td>\n",
       "      <td>359.0</td>\n",
       "      <td>0.0</td>\n",
       "      <td>1.7</td>\n",
       "      <td>7.4</td>\n",
       "      <td>30.5</td>\n",
       "      <td>27.300000</td>\n",
       "      <td>1005.700000</td>\n",
       "      <td>5.0</td>\n",
       "      <td>5.0</td>\n",
       "      <td>76.600000</td>\n",
       "    </tr>\n",
       "    <tr>\n",
       "      <th>308236</th>\n",
       "      <td>ICTMicroclimate-04</td>\n",
       "      <td>2025-04-18T15:31:00+10:00</td>\n",
       "      <td>Batman Park</td>\n",
       "      <td>-37.8221828, 144.9562225</td>\n",
       "      <td>0.0</td>\n",
       "      <td>304.0</td>\n",
       "      <td>359.0</td>\n",
       "      <td>0.0</td>\n",
       "      <td>0.4</td>\n",
       "      <td>4.2</td>\n",
       "      <td>30.3</td>\n",
       "      <td>29.700000</td>\n",
       "      <td>1008.500000</td>\n",
       "      <td>8.0</td>\n",
       "      <td>8.0</td>\n",
       "      <td>65.700000</td>\n",
       "    </tr>\n",
       "    <tr>\n",
       "      <th>308237</th>\n",
       "      <td>ICTMicroclimate-01</td>\n",
       "      <td>2025-04-18T15:29:15+10:00</td>\n",
       "      <td>Birrarung Marr Park - Pole 1131</td>\n",
       "      <td>-37.8185931, 144.9716404</td>\n",
       "      <td>NaN</td>\n",
       "      <td>347.0</td>\n",
       "      <td>NaN</td>\n",
       "      <td>NaN</td>\n",
       "      <td>0.1</td>\n",
       "      <td>NaN</td>\n",
       "      <td>31.9</td>\n",
       "      <td>21.100000</td>\n",
       "      <td>1004.700012</td>\n",
       "      <td>10.0</td>\n",
       "      <td>13.0</td>\n",
       "      <td>57.299999</td>\n",
       "    </tr>\n",
       "    <tr>\n",
       "      <th>308238</th>\n",
       "      <td>ICTMicroclimate-11</td>\n",
       "      <td>2025-04-18T15:51:11+10:00</td>\n",
       "      <td>1 Treasury Place</td>\n",
       "      <td>-37.812888, 144.9750857</td>\n",
       "      <td>0.0</td>\n",
       "      <td>340.0</td>\n",
       "      <td>359.0</td>\n",
       "      <td>0.0</td>\n",
       "      <td>5.0</td>\n",
       "      <td>7.5</td>\n",
       "      <td>30.4</td>\n",
       "      <td>28.800000</td>\n",
       "      <td>1001.100000</td>\n",
       "      <td>5.0</td>\n",
       "      <td>7.0</td>\n",
       "      <td>76.300000</td>\n",
       "    </tr>\n",
       "    <tr>\n",
       "      <th>308239</th>\n",
       "      <td>ICTMicroclimate-04</td>\n",
       "      <td>2025-04-18T15:46:02+10:00</td>\n",
       "      <td>Batman Park</td>\n",
       "      <td>-37.8221828, 144.9562225</td>\n",
       "      <td>0.0</td>\n",
       "      <td>336.0</td>\n",
       "      <td>355.0</td>\n",
       "      <td>0.0</td>\n",
       "      <td>0.3</td>\n",
       "      <td>3.6</td>\n",
       "      <td>30.3</td>\n",
       "      <td>29.000000</td>\n",
       "      <td>1008.500000</td>\n",
       "      <td>8.0</td>\n",
       "      <td>8.0</td>\n",
       "      <td>62.200000</td>\n",
       "    </tr>\n",
       "  </tbody>\n",
       "</table>\n",
       "<p>308240 rows × 16 columns</p>\n",
       "</div>"
      ],
      "text/plain": [
       "                 Device_id                       Time  \\\n",
       "0       ICTMicroclimate-08  2025-02-09T11:54:37+11:00   \n",
       "1       ICTMicroclimate-11  2025-02-09T12:02:11+11:00   \n",
       "2       ICTMicroclimate-05  2025-02-09T12:03:24+11:00   \n",
       "3       ICTMicroclimate-01  2025-02-09T12:02:43+11:00   \n",
       "4       ICTMicroclimate-09  2025-02-09T12:17:37+11:00   \n",
       "...                    ...                        ...   \n",
       "308235  ICTMicroclimate-08  2025-04-18T15:32:17+10:00   \n",
       "308236  ICTMicroclimate-04  2025-04-18T15:31:00+10:00   \n",
       "308237  ICTMicroclimate-01  2025-04-18T15:29:15+10:00   \n",
       "308238  ICTMicroclimate-11  2025-04-18T15:51:11+10:00   \n",
       "308239  ICTMicroclimate-04  2025-04-18T15:46:02+10:00   \n",
       "\n",
       "                                           SensorLocation  \\\n",
       "0       Swanston St - Tram Stop 13 adjacent Federation...   \n",
       "1                                        1 Treasury Place   \n",
       "2                      Enterprize Park - Pole ID: COM1667   \n",
       "3                         Birrarung Marr Park - Pole 1131   \n",
       "4       SkyFarm (Jeff's Shed). Rooftop - Melbourne Con...   \n",
       "...                                                   ...   \n",
       "308235  Swanston St - Tram Stop 13 adjacent Federation...   \n",
       "308236                                        Batman Park   \n",
       "308237                    Birrarung Marr Park - Pole 1131   \n",
       "308238                                   1 Treasury Place   \n",
       "308239                                        Batman Park   \n",
       "\n",
       "                         LatLong  MinimumWindDirection  AverageWindDirection  \\\n",
       "0       -37.8184515, 144.9678474                   0.0                 153.0   \n",
       "1        -37.812888, 144.9750857                   0.0                 144.0   \n",
       "2       -37.8204083, 144.9591192                   0.0                  45.0   \n",
       "3       -37.8185931, 144.9716404                   NaN                 150.0   \n",
       "4       -37.8223306, 144.9521696                   0.0                 241.0   \n",
       "...                          ...                   ...                   ...   \n",
       "308235  -37.8184515, 144.9678474                   0.0                  48.0   \n",
       "308236  -37.8221828, 144.9562225                   0.0                 304.0   \n",
       "308237  -37.8185931, 144.9716404                   NaN                 347.0   \n",
       "308238   -37.812888, 144.9750857                   0.0                 340.0   \n",
       "308239  -37.8221828, 144.9562225                   0.0                 336.0   \n",
       "\n",
       "        MaximumWindDirection  MinimumWindSpeed  AverageWindSpeed  \\\n",
       "0                      358.0               0.0               3.9   \n",
       "1                      356.0               0.0               2.0   \n",
       "2                      133.0               0.0               1.5   \n",
       "3                        NaN               NaN               1.6   \n",
       "4                      359.0               0.0               0.9   \n",
       "...                      ...               ...               ...   \n",
       "308235                 359.0               0.0               1.7   \n",
       "308236                 359.0               0.0               0.4   \n",
       "308237                   NaN               NaN               0.1   \n",
       "308238                 359.0               0.0               5.0   \n",
       "308239                 355.0               0.0               0.3   \n",
       "\n",
       "        GustWindSpeed  AirTemperature  RelativeHumidity  AtmosphericPressure  \\\n",
       "0                 7.9            23.9         57.300000          1009.700000   \n",
       "1                 7.8            24.5         56.200000          1005.300000   \n",
       "2                 2.7            25.0         60.000000          1009.600000   \n",
       "3                 NaN            23.1         61.099998          1009.000000   \n",
       "4                 4.4            25.6         53.700000          1007.900000   \n",
       "...               ...             ...               ...                  ...   \n",
       "308235            7.4            30.5         27.300000          1005.700000   \n",
       "308236            4.2            30.3         29.700000          1008.500000   \n",
       "308237            NaN            31.9         21.100000          1004.700012   \n",
       "308238            7.5            30.4         28.800000          1001.100000   \n",
       "308239            3.6            30.3         29.000000          1008.500000   \n",
       "\n",
       "        PM25  PM10      Noise  \n",
       "0        0.0   0.0  80.500000  \n",
       "1        0.0   0.0  62.900000  \n",
       "2        1.0   3.0  68.500000  \n",
       "3        0.0   5.0  51.700001  \n",
       "4        0.0   0.0  60.200000  \n",
       "...      ...   ...        ...  \n",
       "308235   5.0   5.0  76.600000  \n",
       "308236   8.0   8.0  65.700000  \n",
       "308237  10.0  13.0  57.299999  \n",
       "308238   5.0   7.0  76.300000  \n",
       "308239   8.0   8.0  62.200000  \n",
       "\n",
       "[308240 rows x 16 columns]"
      ]
     },
     "execution_count": 1,
     "metadata": {},
     "output_type": "execute_result"
    }
   ],
   "source": [
    "import pandas as pd\n",
    "df = pd.read_csv(\"microclimate-sensors-data.csv\")\n",
    "df"
   ]
  },
  {
   "cell_type": "code",
   "execution_count": 2,
   "id": "54de907e-175d-4c94-8e4c-7857700fb11e",
   "metadata": {
    "tags": []
   },
   "outputs": [
    {
     "data": {
      "text/plain": [
       "(308240, 16)"
      ]
     },
     "execution_count": 2,
     "metadata": {},
     "output_type": "execute_result"
    }
   ],
   "source": [
    "df.shape"
   ]
  },
  {
   "cell_type": "code",
   "execution_count": 3,
   "id": "c63e271e-40a2-4445-979b-bd881866e52c",
   "metadata": {
    "tags": []
   },
   "outputs": [
    {
     "data": {
      "text/plain": [
       "array(['2024-05-29T13:47:33+10:00', '2024-05-29T13:49:14+10:00',\n",
       "       '2024-05-29T13:49:46+10:00', ..., '2025-04-18T15:47:23+10:00',\n",
       "       '2025-04-18T15:49:41+10:00', '2025-04-18T15:51:11+10:00'],\n",
       "      dtype=object)"
      ]
     },
     "execution_count": 3,
     "metadata": {},
     "output_type": "execute_result"
    }
   ],
   "source": [
    "a = df[\"Time\"].unique()\n",
    "a.sort()\n",
    "a"
   ]
  },
  {
   "cell_type": "code",
   "execution_count": 4,
   "id": "4d93b4ed-c159-48f1-b204-56b9aab269c0",
   "metadata": {
    "tags": []
   },
   "outputs": [
    {
     "name": "stdout",
     "output_type": "stream",
     "text": [
      "<class 'pandas.core.frame.DataFrame'>\n",
      "RangeIndex: 308240 entries, 0 to 308239\n",
      "Data columns (total 16 columns):\n",
      " #   Column                Non-Null Count   Dtype  \n",
      "---  ------                --------------   -----  \n",
      " 0   Device_id             308240 non-null  object \n",
      " 1   Time                  308240 non-null  object \n",
      " 2   SensorLocation        302097 non-null  object \n",
      " 3   LatLong               296757 non-null  object \n",
      " 4   MinimumWindDirection  276852 non-null  float64\n",
      " 5   AverageWindDirection  307762 non-null  float64\n",
      " 6   MaximumWindDirection  276694 non-null  float64\n",
      " 7   MinimumWindSpeed      276694 non-null  float64\n",
      " 8   AverageWindSpeed      307762 non-null  float64\n",
      " 9   GustWindSpeed         276694 non-null  float64\n",
      " 10  AirTemperature        307762 non-null  float64\n",
      " 11  RelativeHumidity      307762 non-null  float64\n",
      " 12  AtmosphericPressure   307762 non-null  float64\n",
      " 13  PM25                  294491 non-null  float64\n",
      " 14  PM10                  294491 non-null  float64\n",
      " 15  Noise                 294491 non-null  float64\n",
      "dtypes: float64(12), object(4)\n",
      "memory usage: 37.6+ MB\n"
     ]
    }
   ],
   "source": [
    "df.info()"
   ]
  },
  {
   "cell_type": "code",
   "execution_count": 5,
   "id": "2b6066a7-48d9-445f-9ef8-c06d61dab8af",
   "metadata": {
    "tags": []
   },
   "outputs": [
    {
     "data": {
      "text/plain": [
       "SensorLocation\n",
       "1 Treasury Place                                                                    35891\n",
       "Birrarung Marr Park - Pole 1131                                                     30984\n",
       "Tram Stop 7C - Melbourne Tennis Centre Precinct - Rod Laver Arena                   30929\n",
       "SkyFarm (Jeff's Shed). Rooftop - Melbourne Conference & Exhibition Centre (MCEC)    30884\n",
       "CH1 rooftop                                                                         30871\n",
       "101 Collins St L11 Rooftop                                                          30815\n",
       "Tram Stop 7B - Melbourne Tennis Centre Precinct - Rod Laver Arena                   30741\n",
       "Swanston St - Tram Stop 13 adjacent Federation Sq & Flinders St Station             30314\n",
       "Batman Park                                                                         21491\n",
       "Enterprize Park - Pole ID: COM1667                                                  15954\n",
       "Royal Park Asset ID: COM2707                                                        13223\n",
       "Name: count, dtype: int64"
      ]
     },
     "execution_count": 5,
     "metadata": {},
     "output_type": "execute_result"
    }
   ],
   "source": [
    "df[\"SensorLocation\"].value_counts()"
   ]
  },
  {
   "cell_type": "markdown",
   "id": "c0a4ac76-1683-49eb-a553-f04b09027696",
   "metadata": {},
   "source": [
    "## Data Cleaning and Preprocessing"
   ]
  },
  {
   "cell_type": "markdown",
   "id": "fa3b4b14-3594-45d4-8fe5-41943c8303d2",
   "metadata": {
    "tags": []
   },
   "source": [
    "### Feature Removal"
   ]
  },
  {
   "cell_type": "markdown",
   "id": "c03a63ce-cb6c-4ae3-857f-e50cb6e0065e",
   "metadata": {},
   "source": [
    "Several features have been removed due to being identifiers and redundant with other features that are not relevant for clustering. The remaining features better represent the environmental conditions for meaningful cluster analysis."
   ]
  },
  {
   "cell_type": "code",
   "execution_count": 6,
   "id": "0d5a9b60-7077-43c5-b2e5-117952d390ff",
   "metadata": {
    "tags": []
   },
   "outputs": [],
   "source": [
    "df = df.drop(columns=['Device_id', 'Time', 'LatLong', 'MinimumWindSpeed', 'MaximumWindDirection', \"MinimumWindDirection\",'GustWindSpeed'\n",
    "                      ])\n"
   ]
  },
  {
   "cell_type": "markdown",
   "id": "f5e717c9-8246-4855-9030-0cd3468e114a",
   "metadata": {},
   "source": [
    "### Handling Missing SensorLocation"
   ]
  },
  {
   "cell_type": "markdown",
   "id": "fee34b7f-b89b-423f-b322-827e1386be1f",
   "metadata": {
    "tags": []
   },
   "source": [
    "Rows with missing SensorLocation were removed to retain only labeled data for evaluating clustering performance."
   ]
  },
  {
   "cell_type": "code",
   "execution_count": 7,
   "id": "07026d95-ccf9-4046-84c5-7af4836b5808",
   "metadata": {
    "tags": []
   },
   "outputs": [],
   "source": [
    "df = df.dropna(subset=['SensorLocation'])\n"
   ]
  },
  {
   "cell_type": "markdown",
   "id": "6f17e273-0d92-430f-97d1-6c8d3b6309db",
   "metadata": {},
   "source": [
    "### Investigation of Missing PM/Noise Data"
   ]
  },
  {
   "cell_type": "markdown",
   "id": "36c95004-8da6-464c-89f9-e6596831ffb7",
   "metadata": {},
   "source": [
    "significant number of entries were found to be incomplete."
   ]
  },
  {
   "cell_type": "code",
   "execution_count": 8,
   "id": "fa52ced8-d2d7-4620-b081-bfd76ed01713",
   "metadata": {
    "tags": []
   },
   "outputs": [
    {
     "data": {
      "text/plain": [
       "SensorLocation              0\n",
       "AverageWindDirection      326\n",
       "AverageWindSpeed          326\n",
       "AirTemperature            326\n",
       "RelativeHumidity          326\n",
       "AtmosphericPressure       326\n",
       "PM25                    13549\n",
       "PM10                    13549\n",
       "Noise                   13549\n",
       "dtype: int64"
      ]
     },
     "execution_count": 8,
     "metadata": {},
     "output_type": "execute_result"
    }
   ],
   "source": [
    "df.isnull().sum()"
   ]
  },
  {
   "cell_type": "markdown",
   "id": "3e80dd3a-0f57-4175-a9cb-7d0063041d62",
   "metadata": {
    "tags": []
   },
   "source": [
    "To understand the source,  any missing value in PM25, PM10, or Noise is filtered for all rows.\n",
    "This revealed that 13,223 out of 13,549 missing rows (over 97%) originated from a single sensor location \"Royal Park Asset ID: COM2707, suggests that this sensor does not collect PM or Noise data at all, likely due to hardware limitations.\n",
    "\n"
   ]
  },
  {
   "cell_type": "code",
   "execution_count": 9,
   "id": "6d9d0bd3-3963-4262-b46d-c4fb223465fb",
   "metadata": {
    "tags": []
   },
   "outputs": [
    {
     "data": {
      "text/plain": [
       "SensorLocation\n",
       "Royal Park Asset ID: COM2707                                                        13223\n",
       "1 Treasury Place                                                                      222\n",
       "CH1 rooftop                                                                            32\n",
       "Birrarung Marr Park - Pole 1131                                                        23\n",
       "101 Collins St L11 Rooftop                                                             15\n",
       "Tram Stop 7C - Melbourne Tennis Centre Precinct - Rod Laver Arena                       8\n",
       "SkyFarm (Jeff's Shed). Rooftop - Melbourne Conference & Exhibition Centre (MCEC)        7\n",
       "Enterprize Park - Pole ID: COM1667                                                      7\n",
       "Tram Stop 7B - Melbourne Tennis Centre Precinct - Rod Laver Arena                       5\n",
       "Swanston St - Tram Stop 13 adjacent Federation Sq & Flinders St Station                 4\n",
       "Batman Park                                                                             3\n",
       "Name: count, dtype: int64"
      ]
     },
     "execution_count": 9,
     "metadata": {},
     "output_type": "execute_result"
    }
   ],
   "source": [
    "missing_rows = df[df[['PM25', 'PM10', 'Noise']].isnull().any(axis=1)]\n",
    "missing_rows['SensorLocation'].value_counts()\n"
   ]
  },
  {
   "cell_type": "markdown",
   "id": "9e8a5a62-d3d2-4b71-bfa8-f06fb32d4352",
   "metadata": {},
   "source": [
    "PM2.5, PM10, and Noise are critical features for clustering microclimate conditions, as they reflect pollution and environmental stress, a key aspects of distinguishing sensor regions. \n",
    "\n",
    "However, the \"Royal Park Asset ID: COM2707\" sensor contributes 13,223 rows, all of which are missing values for these three features.\n",
    "\n",
    "Imputing such a large portion of missing data is not reliable in this context, especially since meaningful imputation would typically require patterns within the same sensor location and this sensor records no values at all for PM and Noise. Alternatively,exclusing PM and noise from the clustering model to accommodate this sensor would significantly reduce clustering quality across all other sensors.\n",
    "\n",
    "As a result, the Royal Park sensor was removed to ensure feature consistency and maintain the integrity of the clustering process across all remaining observations."
   ]
  },
  {
   "cell_type": "code",
   "execution_count": 10,
   "id": "f9c4a8a8-4863-404f-9e19-208c2acdc465",
   "metadata": {
    "tags": []
   },
   "outputs": [],
   "source": [
    "df = df[df['SensorLocation'] != 'Royal Park Asset ID: COM2707']\n"
   ]
  },
  {
   "cell_type": "code",
   "execution_count": 11,
   "id": "d1ceaa5e-84ff-46c6-b99b-d7e597536c38",
   "metadata": {
    "tags": []
   },
   "outputs": [
    {
     "name": "stdout",
     "output_type": "stream",
     "text": [
      "<class 'pandas.core.frame.DataFrame'>\n",
      "Index: 288874 entries, 0 to 308239\n",
      "Data columns (total 9 columns):\n",
      " #   Column                Non-Null Count   Dtype  \n",
      "---  ------                --------------   -----  \n",
      " 0   SensorLocation        288874 non-null  object \n",
      " 1   AverageWindDirection  288548 non-null  float64\n",
      " 2   AverageWindSpeed      288548 non-null  float64\n",
      " 3   AirTemperature        288548 non-null  float64\n",
      " 4   RelativeHumidity      288548 non-null  float64\n",
      " 5   AtmosphericPressure   288548 non-null  float64\n",
      " 6   PM25                  288548 non-null  float64\n",
      " 7   PM10                  288548 non-null  float64\n",
      " 8   Noise                 288548 non-null  float64\n",
      "dtypes: float64(8), object(1)\n",
      "memory usage: 22.0+ MB\n"
     ]
    }
   ],
   "source": [
    "df.info()"
   ]
  },
  {
   "cell_type": "markdown",
   "id": "56008e0f-5a56-4e61-b00e-15dbb9d0d516",
   "metadata": {},
   "source": [
    "### Final Missing Values Cleanup"
   ]
  },
  {
   "cell_type": "markdown",
   "id": "a7e84344-76f9-4f57-a684-69b4f2e695b0",
   "metadata": {},
   "source": [
    "After removing Royal Park, 326 rows still contained missing values across all core features. Since no meaningful imputation could be performed and these rows carried no usable data, as imputation wil only cause repetitive data, we removed them as well."
   ]
  },
  {
   "cell_type": "code",
   "execution_count": 12,
   "id": "af9247be-e85d-4acf-bedf-9d4593221151",
   "metadata": {
    "tags": []
   },
   "outputs": [
    {
     "data": {
      "text/plain": [
       "SensorLocation            0\n",
       "AverageWindDirection    326\n",
       "AverageWindSpeed        326\n",
       "AirTemperature          326\n",
       "RelativeHumidity        326\n",
       "AtmosphericPressure     326\n",
       "PM25                    326\n",
       "PM10                    326\n",
       "Noise                   326\n",
       "dtype: int64"
      ]
     },
     "execution_count": 12,
     "metadata": {},
     "output_type": "execute_result"
    }
   ],
   "source": [
    "df.isnull().sum()"
   ]
  },
  {
   "cell_type": "code",
   "execution_count": 13,
   "id": "5725182e-e49f-4cd6-87cb-00b916a6d533",
   "metadata": {
    "tags": []
   },
   "outputs": [],
   "source": [
    "df = df.dropna(subset=['AverageWindDirection'])\n"
   ]
  },
  {
   "cell_type": "code",
   "execution_count": 14,
   "id": "d7241132-5d28-40b5-9e1f-534348eaaab8",
   "metadata": {
    "tags": []
   },
   "outputs": [
    {
     "data": {
      "text/plain": [
       "SensorLocation          0\n",
       "AverageWindDirection    0\n",
       "AverageWindSpeed        0\n",
       "AirTemperature          0\n",
       "RelativeHumidity        0\n",
       "AtmosphericPressure     0\n",
       "PM25                    0\n",
       "PM10                    0\n",
       "Noise                   0\n",
       "dtype: int64"
      ]
     },
     "execution_count": 14,
     "metadata": {},
     "output_type": "execute_result"
    }
   ],
   "source": [
    "df.isnull().sum()"
   ]
  },
  {
   "cell_type": "markdown",
   "id": "46193ad7-7b32-4ee8-8070-63d50af7158f",
   "metadata": {
    "tags": []
   },
   "source": [
    "### Visualization"
   ]
  },
  {
   "cell_type": "code",
   "execution_count": 15,
   "id": "21e14d74-d0c7-4002-bae3-948a2971fa8a",
   "metadata": {
    "tags": []
   },
   "outputs": [
    {
     "data": {
      "text/html": [
       "<div>\n",
       "<style scoped>\n",
       "    .dataframe tbody tr th:only-of-type {\n",
       "        vertical-align: middle;\n",
       "    }\n",
       "\n",
       "    .dataframe tbody tr th {\n",
       "        vertical-align: top;\n",
       "    }\n",
       "\n",
       "    .dataframe thead th {\n",
       "        text-align: right;\n",
       "    }\n",
       "</style>\n",
       "<table border=\"1\" class=\"dataframe\">\n",
       "  <thead>\n",
       "    <tr style=\"text-align: right;\">\n",
       "      <th></th>\n",
       "      <th>AverageWindDirection</th>\n",
       "      <th>AverageWindSpeed</th>\n",
       "      <th>AirTemperature</th>\n",
       "      <th>RelativeHumidity</th>\n",
       "      <th>AtmosphericPressure</th>\n",
       "      <th>PM25</th>\n",
       "      <th>PM10</th>\n",
       "      <th>Noise</th>\n",
       "    </tr>\n",
       "  </thead>\n",
       "  <tbody>\n",
       "    <tr>\n",
       "      <th>count</th>\n",
       "      <td>288548.000000</td>\n",
       "      <td>288548.000000</td>\n",
       "      <td>288548.000000</td>\n",
       "      <td>288548.000000</td>\n",
       "      <td>288548.000000</td>\n",
       "      <td>288548.000000</td>\n",
       "      <td>288548.000000</td>\n",
       "      <td>288548.00000</td>\n",
       "    </tr>\n",
       "    <tr>\n",
       "      <th>mean</th>\n",
       "      <td>169.232415</td>\n",
       "      <td>1.129437</td>\n",
       "      <td>17.419482</td>\n",
       "      <td>64.337469</td>\n",
       "      <td>997.004982</td>\n",
       "      <td>23.413851</td>\n",
       "      <td>7.267352</td>\n",
       "      <td>66.24499</td>\n",
       "    </tr>\n",
       "    <tr>\n",
       "      <th>std</th>\n",
       "      <td>121.178246</td>\n",
       "      <td>0.981487</td>\n",
       "      <td>6.232470</td>\n",
       "      <td>18.364424</td>\n",
       "      <td>125.717806</td>\n",
       "      <td>133.940484</td>\n",
       "      <td>9.569357</td>\n",
       "      <td>13.56722</td>\n",
       "    </tr>\n",
       "    <tr>\n",
       "      <th>min</th>\n",
       "      <td>0.000000</td>\n",
       "      <td>0.000000</td>\n",
       "      <td>0.000000</td>\n",
       "      <td>4.000000</td>\n",
       "      <td>20.900000</td>\n",
       "      <td>0.000000</td>\n",
       "      <td>0.000000</td>\n",
       "      <td>0.00000</td>\n",
       "    </tr>\n",
       "    <tr>\n",
       "      <th>25%</th>\n",
       "      <td>52.000000</td>\n",
       "      <td>0.400000</td>\n",
       "      <td>13.200000</td>\n",
       "      <td>53.600000</td>\n",
       "      <td>1008.300000</td>\n",
       "      <td>1.000000</td>\n",
       "      <td>3.000000</td>\n",
       "      <td>58.90000</td>\n",
       "    </tr>\n",
       "    <tr>\n",
       "      <th>50%</th>\n",
       "      <td>164.000000</td>\n",
       "      <td>0.900000</td>\n",
       "      <td>17.000000</td>\n",
       "      <td>66.200000</td>\n",
       "      <td>1013.900000</td>\n",
       "      <td>3.000000</td>\n",
       "      <td>5.000000</td>\n",
       "      <td>68.30000</td>\n",
       "    </tr>\n",
       "    <tr>\n",
       "      <th>75%</th>\n",
       "      <td>292.000000</td>\n",
       "      <td>1.500000</td>\n",
       "      <td>20.800000</td>\n",
       "      <td>77.200000</td>\n",
       "      <td>1019.000000</td>\n",
       "      <td>6.000000</td>\n",
       "      <td>8.000000</td>\n",
       "      <td>72.40000</td>\n",
       "    </tr>\n",
       "    <tr>\n",
       "      <th>max</th>\n",
       "      <td>359.000000</td>\n",
       "      <td>11.100000</td>\n",
       "      <td>40.800000</td>\n",
       "      <td>99.800003</td>\n",
       "      <td>1042.900000</td>\n",
       "      <td>1030.700000</td>\n",
       "      <td>265.000000</td>\n",
       "      <td>131.10000</td>\n",
       "    </tr>\n",
       "  </tbody>\n",
       "</table>\n",
       "</div>"
      ],
      "text/plain": [
       "       AverageWindDirection  AverageWindSpeed  AirTemperature  \\\n",
       "count         288548.000000     288548.000000   288548.000000   \n",
       "mean             169.232415          1.129437       17.419482   \n",
       "std              121.178246          0.981487        6.232470   \n",
       "min                0.000000          0.000000        0.000000   \n",
       "25%               52.000000          0.400000       13.200000   \n",
       "50%              164.000000          0.900000       17.000000   \n",
       "75%              292.000000          1.500000       20.800000   \n",
       "max              359.000000         11.100000       40.800000   \n",
       "\n",
       "       RelativeHumidity  AtmosphericPressure           PM25           PM10  \\\n",
       "count     288548.000000        288548.000000  288548.000000  288548.000000   \n",
       "mean          64.337469           997.004982      23.413851       7.267352   \n",
       "std           18.364424           125.717806     133.940484       9.569357   \n",
       "min            4.000000            20.900000       0.000000       0.000000   \n",
       "25%           53.600000          1008.300000       1.000000       3.000000   \n",
       "50%           66.200000          1013.900000       3.000000       5.000000   \n",
       "75%           77.200000          1019.000000       6.000000       8.000000   \n",
       "max           99.800003          1042.900000    1030.700000     265.000000   \n",
       "\n",
       "              Noise  \n",
       "count  288548.00000  \n",
       "mean       66.24499  \n",
       "std        13.56722  \n",
       "min         0.00000  \n",
       "25%        58.90000  \n",
       "50%        68.30000  \n",
       "75%        72.40000  \n",
       "max       131.10000  "
      ]
     },
     "execution_count": 15,
     "metadata": {},
     "output_type": "execute_result"
    }
   ],
   "source": [
    "df.describe()"
   ]
  },
  {
   "cell_type": "code",
   "execution_count": 16,
   "id": "33ac2322-d953-4656-96cb-8a886cd1031f",
   "metadata": {
    "tags": []
   },
   "outputs": [
    {
     "data": {
      "image/png": "[encoded data removed]",
      "text/plain": [
       "<Figure size 1500x1500 with 8 Axes>"
      ]
     },
     "metadata": {},
     "output_type": "display_data"
    }
   ],
   "source": [
    "import matplotlib.pyplot as plt\n",
    "import seaborn as sns\n",
    "# drop label due to its categorical feature\n",
    "numeric_columns = df.drop(columns='SensorLocation')\n",
    "\n",
    "fig, axes = plt.subplots(3, 3, figsize=(15, 15))  \n",
    "axes = axes.flatten()\n",
    "\n",
    "for i in range(len(numeric_columns.columns)):\n",
    "    sns.boxplot(y=numeric_columns.iloc[:, i], ax=axes[i])\n",
    "    axes[i].set_title(f'Boxplot of {numeric_columns.columns[i]}')\n",
    "    \n",
    "for j in range(len(numeric_columns.columns), len(axes)):\n",
    "    fig.delaxes(axes[j])\n",
    "\n",
    "plt.tight_layout()\n",
    "plt.show()"
   ]
  },
  {
   "cell_type": "markdown",
   "id": "f44e8a38-cffa-415a-80b8-9a0c8c4eb083",
   "metadata": {},
   "source": [
    "Both the boxplots and descriptive statistics provide strong evidence of outliers in several features, particularly in PM2.5, PM10, and AtmosphericPressure. These outliers could be due to natural environmental events or sensor anomalies. "
   ]
  },
  {
   "cell_type": "markdown",
   "id": "98ee53b7-b3ce-4cbd-ad24-6f7eccdef802",
   "metadata": {
    "tags": []
   },
   "source": [
    "### Standardize data"
   ]
  },
  {
   "cell_type": "markdown",
   "id": "83d85c2f-c307-4ae7-a7b8-3001ad10855a",
   "metadata": {},
   "source": [
    "Rather than removing the outlier that may lost important dataset, the dataset is stadardize using z-score normalization. This process rescale all numeric column to have a mean of 0 and a standard deviation of 1. stardadization help reduce the infleunce of extreme value in distance-based model such as clustering, without discarding any data points. Standardization reduce the influence of large value, reduce the bias and maintain the integrity of the original dataset without discarding any data points."
   ]
  },
  {
   "cell_type": "code",
   "execution_count": 17,
   "id": "cf2c21c2-181b-482d-afb2-754b467b7c09",
   "metadata": {
    "tags": []
   },
   "outputs": [
    {
     "data": {
      "text/html": [
       "<div>\n",
       "<style scoped>\n",
       "    .dataframe tbody tr th:only-of-type {\n",
       "        vertical-align: middle;\n",
       "    }\n",
       "\n",
       "    .dataframe tbody tr th {\n",
       "        vertical-align: top;\n",
       "    }\n",
       "\n",
       "    .dataframe thead th {\n",
       "        text-align: right;\n",
       "    }\n",
       "</style>\n",
       "<table border=\"1\" class=\"dataframe\">\n",
       "  <thead>\n",
       "    <tr style=\"text-align: right;\">\n",
       "      <th></th>\n",
       "      <th>SensorLocation</th>\n",
       "      <th>AverageWindDirection</th>\n",
       "      <th>AverageWindSpeed</th>\n",
       "      <th>AirTemperature</th>\n",
       "      <th>RelativeHumidity</th>\n",
       "      <th>AtmosphericPressure</th>\n",
       "      <th>PM25</th>\n",
       "      <th>PM10</th>\n",
       "      <th>Noise</th>\n",
       "    </tr>\n",
       "  </thead>\n",
       "  <tbody>\n",
       "    <tr>\n",
       "      <th>0</th>\n",
       "      <td>Swanston St - Tram Stop 13 adjacent Federation...</td>\n",
       "      <td>-0.133955</td>\n",
       "      <td>2.822822</td>\n",
       "      <td>1.039799</td>\n",
       "      <td>-0.383212</td>\n",
       "      <td>0.100980</td>\n",
       "      <td>-0.174808</td>\n",
       "      <td>-0.759440</td>\n",
       "      <td>1.050695</td>\n",
       "    </tr>\n",
       "    <tr>\n",
       "      <th>1</th>\n",
       "      <td>1 Treasury Place</td>\n",
       "      <td>-0.208226</td>\n",
       "      <td>0.886984</td>\n",
       "      <td>1.136069</td>\n",
       "      <td>-0.443111</td>\n",
       "      <td>0.065981</td>\n",
       "      <td>-0.174808</td>\n",
       "      <td>-0.759440</td>\n",
       "      <td>-0.246549</td>\n",
       "    </tr>\n",
       "    <tr>\n",
       "      <th>2</th>\n",
       "      <td>Enterprize Park - Pole ID: COM1667</td>\n",
       "      <td>-1.025204</td>\n",
       "      <td>0.377553</td>\n",
       "      <td>1.216294</td>\n",
       "      <td>-0.236189</td>\n",
       "      <td>0.100185</td>\n",
       "      <td>-0.167342</td>\n",
       "      <td>-0.445939</td>\n",
       "      <td>0.166210</td>\n",
       "    </tr>\n",
       "    <tr>\n",
       "      <th>3</th>\n",
       "      <td>Birrarung Marr Park - Pole 1131</td>\n",
       "      <td>-0.158712</td>\n",
       "      <td>0.479439</td>\n",
       "      <td>0.911439</td>\n",
       "      <td>-0.176290</td>\n",
       "      <td>0.095412</td>\n",
       "      <td>-0.174808</td>\n",
       "      <td>-0.236939</td>\n",
       "      <td>-1.072069</td>\n",
       "    </tr>\n",
       "    <tr>\n",
       "      <th>4</th>\n",
       "      <td>SkyFarm (Jeff's Shed). Rooftop - Melbourne Con...</td>\n",
       "      <td>0.592248</td>\n",
       "      <td>-0.233764</td>\n",
       "      <td>1.312564</td>\n",
       "      <td>-0.579243</td>\n",
       "      <td>0.086662</td>\n",
       "      <td>-0.174808</td>\n",
       "      <td>-0.759440</td>\n",
       "      <td>-0.445559</td>\n",
       "    </tr>\n",
       "    <tr>\n",
       "      <th>...</th>\n",
       "      <td>...</td>\n",
       "      <td>...</td>\n",
       "      <td>...</td>\n",
       "      <td>...</td>\n",
       "      <td>...</td>\n",
       "      <td>...</td>\n",
       "      <td>...</td>\n",
       "      <td>...</td>\n",
       "      <td>...</td>\n",
       "    </tr>\n",
       "    <tr>\n",
       "      <th>308235</th>\n",
       "      <td>Swanston St - Tram Stop 13 adjacent Federation...</td>\n",
       "      <td>-1.000447</td>\n",
       "      <td>0.581325</td>\n",
       "      <td>2.098770</td>\n",
       "      <td>-2.016805</td>\n",
       "      <td>0.069163</td>\n",
       "      <td>-0.137478</td>\n",
       "      <td>-0.236939</td>\n",
       "      <td>0.763237</td>\n",
       "    </tr>\n",
       "    <tr>\n",
       "      <th>308236</th>\n",
       "      <td>Batman Park</td>\n",
       "      <td>1.112143</td>\n",
       "      <td>-0.743195</td>\n",
       "      <td>2.066680</td>\n",
       "      <td>-1.886118</td>\n",
       "      <td>0.091435</td>\n",
       "      <td>-0.115080</td>\n",
       "      <td>0.076562</td>\n",
       "      <td>-0.040170</td>\n",
       "    </tr>\n",
       "    <tr>\n",
       "      <th>308237</th>\n",
       "      <td>Birrarung Marr Park - Pole 1131</td>\n",
       "      <td>1.466993</td>\n",
       "      <td>-1.048854</td>\n",
       "      <td>2.323400</td>\n",
       "      <td>-2.354415</td>\n",
       "      <td>0.061209</td>\n",
       "      <td>-0.100148</td>\n",
       "      <td>0.599063</td>\n",
       "      <td>-0.659309</td>\n",
       "    </tr>\n",
       "    <tr>\n",
       "      <th>308238</th>\n",
       "      <td>1 Treasury Place</td>\n",
       "      <td>1.409226</td>\n",
       "      <td>3.943571</td>\n",
       "      <td>2.082725</td>\n",
       "      <td>-1.935126</td>\n",
       "      <td>0.032573</td>\n",
       "      <td>-0.137478</td>\n",
       "      <td>-0.027938</td>\n",
       "      <td>0.741125</td>\n",
       "    </tr>\n",
       "    <tr>\n",
       "      <th>308239</th>\n",
       "      <td>Batman Park</td>\n",
       "      <td>1.376217</td>\n",
       "      <td>-0.845082</td>\n",
       "      <td>2.066680</td>\n",
       "      <td>-1.924235</td>\n",
       "      <td>0.091435</td>\n",
       "      <td>-0.115080</td>\n",
       "      <td>0.076562</td>\n",
       "      <td>-0.298144</td>\n",
       "    </tr>\n",
       "  </tbody>\n",
       "</table>\n",
       "<p>288548 rows × 9 columns</p>\n",
       "</div>"
      ],
      "text/plain": [
       "                                           SensorLocation  \\\n",
       "0       Swanston St - Tram Stop 13 adjacent Federation...   \n",
       "1                                        1 Treasury Place   \n",
       "2                      Enterprize Park - Pole ID: COM1667   \n",
       "3                         Birrarung Marr Park - Pole 1131   \n",
       "4       SkyFarm (Jeff's Shed). Rooftop - Melbourne Con...   \n",
       "...                                                   ...   \n",
       "308235  Swanston St - Tram Stop 13 adjacent Federation...   \n",
       "308236                                        Batman Park   \n",
       "308237                    Birrarung Marr Park - Pole 1131   \n",
       "308238                                   1 Treasury Place   \n",
       "308239                                        Batman Park   \n",
       "\n",
       "        AverageWindDirection  AverageWindSpeed  AirTemperature  \\\n",
       "0                  -0.133955          2.822822        1.039799   \n",
       "1                  -0.208226          0.886984        1.136069   \n",
       "2                  -1.025204          0.377553        1.216294   \n",
       "3                  -0.158712          0.479439        0.911439   \n",
       "4                   0.592248         -0.233764        1.312564   \n",
       "...                      ...               ...             ...   \n",
       "308235             -1.000447          0.581325        2.098770   \n",
       "308236              1.112143         -0.743195        2.066680   \n",
       "308237              1.466993         -1.048854        2.323400   \n",
       "308238              1.409226          3.943571        2.082725   \n",
       "308239              1.376217         -0.845082        2.066680   \n",
       "\n",
       "        RelativeHumidity  AtmosphericPressure      PM25      PM10     Noise  \n",
       "0              -0.383212             0.100980 -0.174808 -0.759440  1.050695  \n",
       "1              -0.443111             0.065981 -0.174808 -0.759440 -0.246549  \n",
       "2              -0.236189             0.100185 -0.167342 -0.445939  0.166210  \n",
       "3              -0.176290             0.095412 -0.174808 -0.236939 -1.072069  \n",
       "4              -0.579243             0.086662 -0.174808 -0.759440 -0.445559  \n",
       "...                  ...                  ...       ...       ...       ...  \n",
       "308235         -2.016805             0.069163 -0.137478 -0.236939  0.763237  \n",
       "308236         -1.886118             0.091435 -0.115080  0.076562 -0.040170  \n",
       "308237         -2.354415             0.061209 -0.100148  0.599063 -0.659309  \n",
       "308238         -1.935126             0.032573 -0.137478 -0.027938  0.741125  \n",
       "308239         -1.924235             0.091435 -0.115080  0.076562 -0.298144  \n",
       "\n",
       "[288548 rows x 9 columns]"
      ]
     },
     "execution_count": 17,
     "metadata": {},
     "output_type": "execute_result"
    }
   ],
   "source": [
    "data_norm=df.copy()\n",
    "mu = data_norm.iloc[:,1:].mean(axis=0) # mean of each col\n",
    "sigma = data_norm.iloc[:,1:].std(axis=0)  # std dev of each col\n",
    "data_norm.iloc[:,1:]=(data_norm.iloc[:,1:]-mu)/sigma\n",
    "\n",
    "data_norm"
   ]
  },
  {
   "cell_type": "markdown",
   "id": "9f6bf96d-de82-440c-957a-482047e5e873",
   "metadata": {},
   "source": [
    "# Question 1"
   ]
  },
  {
   "cell_type": "code",
   "execution_count": 18,
   "id": "911dcf39-009b-4c13-b5e6-44a7a9239c93",
   "metadata": {
    "tags": []
   },
   "outputs": [
    {
     "data": {
      "text/html": [
       "<div>\n",
       "<style scoped>\n",
       "    .dataframe tbody tr th:only-of-type {\n",
       "        vertical-align: middle;\n",
       "    }\n",
       "\n",
       "    .dataframe tbody tr th {\n",
       "        vertical-align: top;\n",
       "    }\n",
       "\n",
       "    .dataframe thead th {\n",
       "        text-align: right;\n",
       "    }\n",
       "</style>\n",
       "<table border=\"1\" class=\"dataframe\">\n",
       "  <thead>\n",
       "    <tr style=\"text-align: right;\">\n",
       "      <th></th>\n",
       "      <th>AverageWindDirection</th>\n",
       "      <th>AverageWindSpeed</th>\n",
       "      <th>AirTemperature</th>\n",
       "      <th>RelativeHumidity</th>\n",
       "      <th>AtmosphericPressure</th>\n",
       "      <th>PM25</th>\n",
       "      <th>PM10</th>\n",
       "      <th>Noise</th>\n",
       "    </tr>\n",
       "  </thead>\n",
       "  <tbody>\n",
       "    <tr>\n",
       "      <th>0</th>\n",
       "      <td>-0.133955</td>\n",
       "      <td>2.822822</td>\n",
       "      <td>1.039799</td>\n",
       "      <td>-0.383212</td>\n",
       "      <td>0.100980</td>\n",
       "      <td>-0.174808</td>\n",
       "      <td>-0.759440</td>\n",
       "      <td>1.050695</td>\n",
       "    </tr>\n",
       "    <tr>\n",
       "      <th>1</th>\n",
       "      <td>-0.208226</td>\n",
       "      <td>0.886984</td>\n",
       "      <td>1.136069</td>\n",
       "      <td>-0.443111</td>\n",
       "      <td>0.065981</td>\n",
       "      <td>-0.174808</td>\n",
       "      <td>-0.759440</td>\n",
       "      <td>-0.246549</td>\n",
       "    </tr>\n",
       "    <tr>\n",
       "      <th>2</th>\n",
       "      <td>-1.025204</td>\n",
       "      <td>0.377553</td>\n",
       "      <td>1.216294</td>\n",
       "      <td>-0.236189</td>\n",
       "      <td>0.100185</td>\n",
       "      <td>-0.167342</td>\n",
       "      <td>-0.445939</td>\n",
       "      <td>0.166210</td>\n",
       "    </tr>\n",
       "    <tr>\n",
       "      <th>3</th>\n",
       "      <td>-0.158712</td>\n",
       "      <td>0.479439</td>\n",
       "      <td>0.911439</td>\n",
       "      <td>-0.176290</td>\n",
       "      <td>0.095412</td>\n",
       "      <td>-0.174808</td>\n",
       "      <td>-0.236939</td>\n",
       "      <td>-1.072069</td>\n",
       "    </tr>\n",
       "    <tr>\n",
       "      <th>4</th>\n",
       "      <td>0.592248</td>\n",
       "      <td>-0.233764</td>\n",
       "      <td>1.312564</td>\n",
       "      <td>-0.579243</td>\n",
       "      <td>0.086662</td>\n",
       "      <td>-0.174808</td>\n",
       "      <td>-0.759440</td>\n",
       "      <td>-0.445559</td>\n",
       "    </tr>\n",
       "    <tr>\n",
       "      <th>...</th>\n",
       "      <td>...</td>\n",
       "      <td>...</td>\n",
       "      <td>...</td>\n",
       "      <td>...</td>\n",
       "      <td>...</td>\n",
       "      <td>...</td>\n",
       "      <td>...</td>\n",
       "      <td>...</td>\n",
       "    </tr>\n",
       "    <tr>\n",
       "      <th>308235</th>\n",
       "      <td>-1.000447</td>\n",
       "      <td>0.581325</td>\n",
       "      <td>2.098770</td>\n",
       "      <td>-2.016805</td>\n",
       "      <td>0.069163</td>\n",
       "      <td>-0.137478</td>\n",
       "      <td>-0.236939</td>\n",
       "      <td>0.763237</td>\n",
       "    </tr>\n",
       "    <tr>\n",
       "      <th>308236</th>\n",
       "      <td>1.112143</td>\n",
       "      <td>-0.743195</td>\n",
       "      <td>2.066680</td>\n",
       "      <td>-1.886118</td>\n",
       "      <td>0.091435</td>\n",
       "      <td>-0.115080</td>\n",
       "      <td>0.076562</td>\n",
       "      <td>-0.040170</td>\n",
       "    </tr>\n",
       "    <tr>\n",
       "      <th>308237</th>\n",
       "      <td>1.466993</td>\n",
       "      <td>-1.048854</td>\n",
       "      <td>2.323400</td>\n",
       "      <td>-2.354415</td>\n",
       "      <td>0.061209</td>\n",
       "      <td>-0.100148</td>\n",
       "      <td>0.599063</td>\n",
       "      <td>-0.659309</td>\n",
       "    </tr>\n",
       "    <tr>\n",
       "      <th>308238</th>\n",
       "      <td>1.409226</td>\n",
       "      <td>3.943571</td>\n",
       "      <td>2.082725</td>\n",
       "      <td>-1.935126</td>\n",
       "      <td>0.032573</td>\n",
       "      <td>-0.137478</td>\n",
       "      <td>-0.027938</td>\n",
       "      <td>0.741125</td>\n",
       "    </tr>\n",
       "    <tr>\n",
       "      <th>308239</th>\n",
       "      <td>1.376217</td>\n",
       "      <td>-0.845082</td>\n",
       "      <td>2.066680</td>\n",
       "      <td>-1.924235</td>\n",
       "      <td>0.091435</td>\n",
       "      <td>-0.115080</td>\n",
       "      <td>0.076562</td>\n",
       "      <td>-0.298144</td>\n",
       "    </tr>\n",
       "  </tbody>\n",
       "</table>\n",
       "<p>288548 rows × 8 columns</p>\n",
       "</div>"
      ],
      "text/plain": [
       "        AverageWindDirection  AverageWindSpeed  AirTemperature  \\\n",
       "0                  -0.133955          2.822822        1.039799   \n",
       "1                  -0.208226          0.886984        1.136069   \n",
       "2                  -1.025204          0.377553        1.216294   \n",
       "3                  -0.158712          0.479439        0.911439   \n",
       "4                   0.592248         -0.233764        1.312564   \n",
       "...                      ...               ...             ...   \n",
       "308235             -1.000447          0.581325        2.098770   \n",
       "308236              1.112143         -0.743195        2.066680   \n",
       "308237              1.466993         -1.048854        2.323400   \n",
       "308238              1.409226          3.943571        2.082725   \n",
       "308239              1.376217         -0.845082        2.066680   \n",
       "\n",
       "        RelativeHumidity  AtmosphericPressure      PM25      PM10     Noise  \n",
       "0              -0.383212             0.100980 -0.174808 -0.759440  1.050695  \n",
       "1              -0.443111             0.065981 -0.174808 -0.759440 -0.246549  \n",
       "2              -0.236189             0.100185 -0.167342 -0.445939  0.166210  \n",
       "3              -0.176290             0.095412 -0.174808 -0.236939 -1.072069  \n",
       "4              -0.579243             0.086662 -0.174808 -0.759440 -0.445559  \n",
       "...                  ...                  ...       ...       ...       ...  \n",
       "308235         -2.016805             0.069163 -0.137478 -0.236939  0.763237  \n",
       "308236         -1.886118             0.091435 -0.115080  0.076562 -0.040170  \n",
       "308237         -2.354415             0.061209 -0.100148  0.599063 -0.659309  \n",
       "308238         -1.935126             0.032573 -0.137478 -0.027938  0.741125  \n",
       "308239         -1.924235             0.091435 -0.115080  0.076562 -0.298144  \n",
       "\n",
       "[288548 rows x 8 columns]"
      ]
     },
     "execution_count": 18,
     "metadata": {},
     "output_type": "execute_result"
    }
   ],
   "source": [
    "X=data_norm.iloc[:,1:]\n",
    "X"
   ]
  },
  {
   "cell_type": "code",
   "execution_count": 19,
   "id": "16fc8b61-1e86-4618-902f-1878d4943306",
   "metadata": {
    "tags": []
   },
   "outputs": [
    {
     "data": {
      "text/plain": [
       "array([[-1.26602429, -2.26052185,  1.00861056, -0.01386277,  1.5545308 ],\n",
       "       [-0.28584439, -1.3418595 , -0.43579702, -0.2868101 ,  0.34335291],\n",
       "       [-0.36239777, -0.86689965, -1.03317341, -0.01868101,  0.84856029],\n",
       "       ...,\n",
       "       [ 0.13659524, -2.06843479, -1.58122151,  1.43577324, -2.4489639 ],\n",
       "       [-1.41214921, -4.14129979,  1.5916974 ,  1.31193444,  0.47192329],\n",
       "       [-0.10004996, -1.98145684, -1.25992263,  0.85514607, -2.1040172 ]])"
      ]
     },
     "execution_count": 19,
     "metadata": {},
     "output_type": "execute_result"
    }
   ],
   "source": [
    "from sklearn.decomposition import PCA\n",
    "pca = PCA(n_components=5)\n",
    "X_pca = pca.fit_transform(X)\n",
    "X_pca"
   ]
  },
  {
   "cell_type": "code",
   "execution_count": 20,
   "id": "abbce45f-f9da-495f-bce4-eb6a6b3a551f",
   "metadata": {
    "tags": []
   },
   "outputs": [
    {
     "name": "stdout",
     "output_type": "stream",
     "text": [
      "[34.91 56.34 71.02 82.37 92.95]\n"
     ]
    },
    {
     "data": {
      "text/plain": [
       "Text(0, 0.5, 'Variance captured')"
      ]
     },
     "execution_count": 20,
     "metadata": {},
     "output_type": "execute_result"
    },
    {
     "data": {
      "image/png": "[encoded data removed]",
      "text/plain": [
       "<Figure size 640x480 with 1 Axes>"
      ]
     },
     "metadata": {},
     "output_type": "display_data"
    }
   ],
   "source": [
    "import numpy as np\n",
    "\n",
    "#Cumulative Variance explains\n",
    "var1=np.cumsum(np.round(pca.explained_variance_ratio_, decimals=4)*100)\n",
    "print(var1)\n",
    "plt.plot(var1)\n",
    "plt.xlabel(\"Principal components\")\n",
    "plt.ylabel(\"Variance captured\")"
   ]
  },
  {
   "cell_type": "code",
   "execution_count": 21,
   "id": "57b99850-27e3-4521-b098-0ecb634cb099",
   "metadata": {
    "tags": []
   },
   "outputs": [
    {
     "name": "stderr",
     "output_type": "stream",
     "text": [
      "/Users/michellelai/anaconda3/lib/python3.11/site-packages/sklearn/cluster/_kmeans.py:1412: FutureWarning: The default value of `n_init` will change from 10 to 'auto' in 1.4. Set the value of `n_init` explicitly to suppress the warning\n",
      "  super()._check_params_vs_input(X, default_n_init=10)\n",
      "/Users/michellelai/anaconda3/lib/python3.11/site-packages/sklearn/cluster/_kmeans.py:1412: FutureWarning: The default value of `n_init` will change from 10 to 'auto' in 1.4. Set the value of `n_init` explicitly to suppress the warning\n",
      "  super()._check_params_vs_input(X, default_n_init=10)\n",
      "/Users/michellelai/anaconda3/lib/python3.11/site-packages/sklearn/cluster/_kmeans.py:1412: FutureWarning: The default value of `n_init` will change from 10 to 'auto' in 1.4. Set the value of `n_init` explicitly to suppress the warning\n",
      "  super()._check_params_vs_input(X, default_n_init=10)\n",
      "/Users/michellelai/anaconda3/lib/python3.11/site-packages/sklearn/cluster/_kmeans.py:1412: FutureWarning: The default value of `n_init` will change from 10 to 'auto' in 1.4. Set the value of `n_init` explicitly to suppress the warning\n",
      "  super()._check_params_vs_input(X, default_n_init=10)\n",
      "/Users/michellelai/anaconda3/lib/python3.11/site-packages/sklearn/cluster/_kmeans.py:1412: FutureWarning: The default value of `n_init` will change from 10 to 'auto' in 1.4. Set the value of `n_init` explicitly to suppress the warning\n",
      "  super()._check_params_vs_input(X, default_n_init=10)\n",
      "/Users/michellelai/anaconda3/lib/python3.11/site-packages/sklearn/cluster/_kmeans.py:1412: FutureWarning: The default value of `n_init` will change from 10 to 'auto' in 1.4. Set the value of `n_init` explicitly to suppress the warning\n",
      "  super()._check_params_vs_input(X, default_n_init=10)\n",
      "/Users/michellelai/anaconda3/lib/python3.11/site-packages/sklearn/cluster/_kmeans.py:1412: FutureWarning: The default value of `n_init` will change from 10 to 'auto' in 1.4. Set the value of `n_init` explicitly to suppress the warning\n",
      "  super()._check_params_vs_input(X, default_n_init=10)\n",
      "/Users/michellelai/anaconda3/lib/python3.11/site-packages/sklearn/cluster/_kmeans.py:1412: FutureWarning: The default value of `n_init` will change from 10 to 'auto' in 1.4. Set the value of `n_init` explicitly to suppress the warning\n",
      "  super()._check_params_vs_input(X, default_n_init=10)\n",
      "/Users/michellelai/anaconda3/lib/python3.11/site-packages/sklearn/cluster/_kmeans.py:1412: FutureWarning: The default value of `n_init` will change from 10 to 'auto' in 1.4. Set the value of `n_init` explicitly to suppress the warning\n",
      "  super()._check_params_vs_input(X, default_n_init=10)\n",
      "/Users/michellelai/anaconda3/lib/python3.11/site-packages/sklearn/cluster/_kmeans.py:1412: FutureWarning: The default value of `n_init` will change from 10 to 'auto' in 1.4. Set the value of `n_init` explicitly to suppress the warning\n",
      "  super()._check_params_vs_input(X, default_n_init=10)\n"
     ]
    },
    {
     "data": {
      "image/png": "[encoded data removed]",
      "text/plain": [
       "<Figure size 800x550 with 1 Axes>"
      ]
     },
     "metadata": {},
     "output_type": "display_data"
    },
    {
     "data": {
      "text/plain": [
       "<Axes: title={'center': 'Distortion Score Elbow for KMeans Clustering'}, xlabel='k', ylabel='distortion score'>"
      ]
     },
     "execution_count": 21,
     "metadata": {},
     "output_type": "execute_result"
    }
   ],
   "source": [
    "from sklearn.cluster import KMeans\n",
    "from sklearn.datasets import make_blobs\n",
    "\n",
    "from yellowbrick.cluster import KElbowVisualizer\n",
    "\n",
    "\n",
    "# Instantiate the clustering model and visualizer\n",
    "model = KMeans()\n",
    "visualizer = KElbowVisualizer(\n",
    "    model, k=(1,11), metric='distortion', timings=False\n",
    ") #distortion (default) same as Euclidean distance\n",
    "\n",
    "visualizer.fit(X_pca)        # Fit the data to the visualizer\n",
    "visualizer.show()  "
   ]
  },
  {
   "cell_type": "code",
   "execution_count": 22,
   "id": "958f752d-d566-4158-ae1a-c5bcfc2ced67",
   "metadata": {
    "tags": []
   },
   "outputs": [
    {
     "name": "stderr",
     "output_type": "stream",
     "text": [
      "/Users/michellelai/anaconda3/lib/python3.11/site-packages/sklearn/cluster/_kmeans.py:1412: FutureWarning: The default value of `n_init` will change from 10 to 'auto' in 1.4. Set the value of `n_init` explicitly to suppress the warning\n",
      "  super()._check_params_vs_input(X, default_n_init=10)\n"
     ]
    }
   ],
   "source": [
    "from sklearn.metrics import silhouette_score, normalized_mutual_info_score\n",
    "\n",
    "y_true=data_norm.iloc[:,0]\n",
    "model = KMeans(n_clusters=3)\n",
    "y_pred=model.fit_predict(X_pca)"
   ]
  },
  {
   "cell_type": "code",
   "execution_count": 23,
   "id": "e7cf8c98-f167-48b5-9fa4-30a631cf57cf",
   "metadata": {
    "tags": []
   },
   "outputs": [],
   "source": [
    "from sklearn import metrics\n",
    "\n",
    "def purity_score(y_true, y_pred):\n",
    "    # compute contingency matrix (also called confusion matrix)\n",
    "    contingency_matrix = metrics.cluster.contingency_matrix(y_true, y_pred)\n",
    "    # return purity\n",
    "    return np.sum(np.amax(contingency_matrix, axis=0)) / np.sum(contingency_matrix) "
   ]
  },
  {
   "cell_type": "code",
   "execution_count": null,
   "id": "b20b5981-f7b2-45d3-b0c3-d8151bb3e3a2",
   "metadata": {
    "tags": []
   },
   "outputs": [
    {
     "name": "stderr",
     "output_type": "stream",
     "text": [
      "/Users/michellelai/anaconda3/lib/python3.11/site-packages/sklearn/cluster/_kmeans.py:1930: FutureWarning: The default value of `n_init` will change from 3 to 'auto' in 1.4. Set the value of `n_init` explicitly to suppress the warning\n",
      "  super()._check_params_vs_input(X, default_n_init=3)\n"
     ]
    }
   ],
   "source": [
    "from sklearn.cluster import MiniBatchKMeans\n",
    "\n",
    "model = MiniBatchKMeans(n_clusters=3, random_state=42, batch_size=1000)\n",
    "y_pred = model.fit_predict(X_pca)\n",
    "\n",
    "from sklearn.metrics import silhouette_score, normalized_mutual_info_score\n",
    "\n",
    "silhouette = silhouette_score(X_pca, y_pred)\n",
    "nmi = normalized_mutual_info_score(y_true, y_pred)\n",
    "purity = purity_score(y_true, y_pred)\n",
    "\n",
    "print(f\"Silhouette Score: {silhouette:.3f}\")\n",
    "print(f\"NMI Score: {nmi:.3f}\")\n",
    "print(f\"Purity Score: {purity:.3f}\")"
   ]
  },
  {
   "cell_type": "markdown",
   "id": "82381d32-8f53-4142-bac6-30ff77656a4e",
   "metadata": {},
   "source": [
    "step 1 - pca\n",
    "\n",
    "step-2 - use elbow method kind the optimak number of cluster\n",
    "\n",
    "\n",
    "\n",
    "3- perform clustering kmean or other algorithm"
   ]
  },
  {
   "cell_type": "code",
   "execution_count": null,
   "id": "4f3f580d-85f7-4f81-8e42-d121f5cb99f8",
   "metadata": {
    "tags": []
   },
   "outputs": [],
   "source": [
    "silhouette = silhouette_score(X_pca, y_pred)\n",
    "purity = purity_score(y_true, y_pred)\n",
    "nmi = normalized_mutual_info_score(y_true, y_pred)\n",
    "\n",
    "print(f\"Silhouette Score (Full Dataset): {silhouette:.3f}\")\n",
    "print(f\"Purity Score: {purity:.3f}\")\n",
    "print(f\"Mutual info Score: {nmi:.3f}\")"
   ]
  }
 ],
 "metadata": {
  "kernelspec": {
   "display_name": "Python 3 (ipykernel)",
   "language": "python",
   "name": "python3"
  },
  "language_info": {
   "codemirror_mode": {
    "name": "ipython",
    "version": 3
   },
   "file_extension": ".py",
   "mimetype": "text/x-python",
   "name": "python",
   "nbconvert_exporter": "python",
   "pygments_lexer": "ipython3",
   "version": "3.11.5"
  }
 },
 "nbformat": 4,
 "nbformat_minor": 5
}
